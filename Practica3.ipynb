{
 "cells": [
  {
   "cell_type": "markdown",
   "id": "ea45bdec-679f-4441-84f3-64055d326e64",
   "metadata": {},
   "source": [
    "# Autor: Víctor Gullón Sánchez\n",
    "# Fecha: 27/02/2024\n",
    "# Tarea: 3 \n",
    "# Asignatura: Sistemas Multimedia"
   ]
  },
  {
   "cell_type": "markdown",
   "id": "0161f31b-f098-4279-98f4-9bd86304301e",
   "metadata": {},
   "source": [
    "## Parte 1"
   ]
  },
  {
   "cell_type": "markdown",
   "id": "15721490-a49b-463a-a9fc-c9526bc5a592",
   "metadata": {},
   "source": [
    "* 1.1: He creado un repositorio vacío como ya aprendimos en la práctica anterior y lo he clonado con el comando ```git clone <url del entorno>```.\n",
    "\n",
    "* 1.2: Después de instalar conda y \"enredar\" clonando en un entorno el git del profesor, creo uno vacío para mí, con el comando ```conda create --name=audiopyv```, y donde clono el repositorio vacío y empiezo.\n",
    "\n",
    "* 1.3: Añado la carpeta ./ipynb_checkpoints/ al fichero del repositiorio de git llamado .gitignore para que sea ignorada y no de fallos a la hora de trabajar. Se crea con el comando ```sudo nano .gitignore```.\n",
    "\n",
    "* 1.4: Activo el entorno que he creado vacío para mí con el comando ```conda activate audiopyv```.\n",
    "\n",
    "* 1.5: Instalo como se ha enseñado en clase y aparece en el github del profesor, python3, ipykernel y jupyterLab, con el comando \"conda install -c conda-forge <package_name>```\n",
    "\n",
    "* 1.6: Añado al entorno creado de conda a los kernels de JupyterLab con el comando ```python3 -m ipykernel install --user --name=audiopyv```.\n",
    "\n",
    "* 1.7: Instalo JupyterLab con el comando ```conda install -c conda-forge jupyterlab```.\n",
    "\n",
    "* 1.8: Ejecuto JupyterLab con el comando ```jupyter-lab``` y abro un notebook vacío. Obviamente no hay nada ya que está vacío el repositorio.\n",
    "\n",
    "* 1.9: Visualizo el jupyterlab para ver que tiene y como funciona."
   ]
  },
  {
   "cell_type": "markdown",
   "id": "cc0d2326-adb9-4fd8-8b83-3aeda6d402e9",
   "metadata": {},
   "source": [
    "## Parte 2"
   ]
  },
  {
   "cell_type": "markdown",
   "id": "72b9656f-6f43-42fe-94d0-15acbea3b48b",
   "metadata": {},
   "source": [
    "### 2.1: He organizado el código haciendo uso de # para títulos grandes, ## para subtítulos, * para la listas de apartados dentro de las partes de las tareas y ``````para mostrar los comandos.\n",
    "### 2.2: Comento en el código con #.\n",
    "### 2.3: Importamos librerias y cargamos el audio mostrando sus caracaterísticas."
   ]
  },
  {
   "cell_type": "markdown",
   "id": "9e40a0cb-1939-4385-af02-983eba374504",
   "metadata": {},
   "source": [
    "* Para este punto lo primero es instalar scipy con el comando ```pip install scipy```para que no nos den fallo la importación de librerías."
   ]
  },
  {
   "cell_type": "code",
   "execution_count": null,
   "id": "9cb29a63-b807-4254-9111-989519ba2e63",
   "metadata": {},
   "outputs": [],
   "source": [
    "pip install scipy"
   ]
  },
  {
   "cell_type": "code",
   "execution_count": null,
   "id": "69bccc4a-d721-4c03-a463-068950019849",
   "metadata": {},
   "outputs": [],
   "source": [
    "# Importacion.\n",
    "# import librosa\n",
    "from scipy.io import wavfile\n",
    "import IPython\n",
    "import os\n",
    "import numpy as np"
   ]
  },
  {
   "cell_type": "code",
   "execution_count": null,
   "id": "248324f8-ae21-4327-b3a1-ea6d89c8f109",
   "metadata": {},
   "outputs": [],
   "source": [
    "# Cargamos el archivo de audio.\n",
    "filename = os.path.join(\"audio\", 'breaking_bad.wav')\n",
    "sample_rate, audio_data = wavfile.read(filename)"
   ]
  },
  {
   "cell_type": "code",
   "execution_count": null,
   "id": "3e867158-1a8b-44ea-ad76-d37b8179ea70",
   "metadata": {},
   "outputs": [],
   "source": [
    "# Se muestra la información del audio estéreo, donde se ve el canal1, canal2, aparte la resolución y el tamaño\n",
    "print('Datos de audio (estereo):')\n",
    "print(f'- Tamaño:     {audio_data.shape}')\n",
    "print(f'- 1º canal:   {audio_data[:5, 0]}...')\n",
    "print(f'- 2º canal:   {audio_data[:5, 1]}...')\n",
    "print(f'- Resolucion: {type(audio_data[0,0])}\\n')"
   ]
  },
  {
   "cell_type": "code",
   "execution_count": null,
   "id": "edcc5db3-dde8-44b5-967f-dd6069952533",
   "metadata": {},
   "outputs": [],
   "source": [
    "print(f'Frecuencia de muestreo (sample rate): {sample_rate/1000} kHz\\n')"
   ]
  },
  {
   "cell_type": "markdown",
   "id": "bbe0defd-eea8-4948-b818-17c2ab20f32b",
   "metadata": {},
   "source": [
    "### 2.4: Realizamo sun widget para reproducir el audio."
   ]
  },
  {
   "cell_type": "code",
   "execution_count": null,
   "id": "1c62cd38-c5b8-44fc-b82f-66de9e3f1e15",
   "metadata": {},
   "outputs": [],
   "source": [
    "IPython.display.Audio(audio_data.T, rate=sample_rate)"
   ]
  },
  {
   "cell_type": "markdown",
   "id": "ed09976f-3b69-4b88-bfa5-a3e13359e136",
   "metadata": {},
   "source": [
    "### 2.5: Convierto el audio de estéreo a mono y vuelvo a mostrar las características."
   ]
  },
  {
   "cell_type": "code",
   "execution_count": null,
   "id": "c32b4f8d-a556-4e0e-9874-0d0138cbd18a",
   "metadata": {},
   "outputs": [],
   "source": [
    "# Se convierte el audio estéreo en mono, se entiende como una simplicación ya que de dos canales pasaremos a uno solo\n",
    "new_data_mono = audio_data.mean(axis=1) # Se hace la media entre los valores de un canal y otro, y surge un solo canal\n",
    "print('Nuevos datos de audio (mono):')\n",
    "print(f'- Nuevo tamaño: {new_data_mono.shape}')\n",
    "print(f'- Canal unico:  {new_data_mono[:5]}...')\n",
    "\n",
    "# Mantenemos la misma resolucion que antes ya que esto no tiene por qué cambiar\n",
    "new_data_mono = new_data_mono.astype(np.int16) # Se fuerza a que sea en ese tipo\n",
    "print(f'- Resolucion:   {type(new_data_mono[0])}\\n')"
   ]
  },
  {
   "cell_type": "code",
   "execution_count": null,
   "id": "0f2a45f6-9781-4a12-9103-fe4b810185f7",
   "metadata": {},
   "outputs": [],
   "source": [
    "print(f'Frecuencia de muestreo (sample rate): {sample_rate/1000} kHz\\n')"
   ]
  },
  {
   "cell_type": "markdown",
   "id": "7d6b041f-4dce-415a-9c1e-b94d795ac2ec",
   "metadata": {},
   "source": [
    "### 2.6: Creo un nuevo widget para este audio en mono."
   ]
  },
  {
   "cell_type": "code",
   "execution_count": null,
   "id": "91825eb1-2b10-478d-ab0c-979505212281",
   "metadata": {},
   "outputs": [],
   "source": [
    "IPython.display.Audio(new_data_mono, rate=sample_rate)"
   ]
  },
  {
   "cell_type": "markdown",
   "id": "a822cb52-af95-4ba0-becf-36088b78c4b1",
   "metadata": {},
   "source": [
    "### 2.7: Gráfica de dominio."
   ]
  },
  {
   "cell_type": "markdown",
   "id": "47cc8477-7765-47da-922f-d6c7598e28d3",
   "metadata": {},
   "source": [
    "Para poder hacer las gráficas de dominio se necesita instalar matplotlib con el comando que aparece en la siguiente celda"
   ]
  },
  {
   "cell_type": "code",
   "execution_count": null,
   "id": "c6aa2732-4172-4f64-8fbc-443807374d41",
   "metadata": {},
   "outputs": [],
   "source": [
    "pip install matplotlib"
   ]
  },
  {
   "cell_type": "markdown",
   "id": "624d7aae-5bdc-4500-b279-088fb9cb4d4a",
   "metadata": {},
   "source": [
    "Se importan las siguientes librerías"
   ]
  },
  {
   "cell_type": "code",
   "execution_count": null,
   "id": "22fef478-6dd6-41c2-86bb-2a271aac9f77",
   "metadata": {},
   "outputs": [],
   "source": [
    "import matplotlib.pyplot as plt\n",
    "import numpy as np"
   ]
  },
  {
   "cell_type": "code",
   "execution_count": null,
   "id": "ddaf0b39-15a0-4f31-bcd2-9e3cef532abf",
   "metadata": {},
   "outputs": [],
   "source": [
    "sr_mono = 44100  # Tasa de muestreo de tu audio mono, ajusta según sea necesario.\n",
    "\n",
    "# Calculando el tiempo en segundos para el eje x.\n",
    "t_mono = np.arange(len(new_data_mono)) / sr_mono\n",
    "\n",
    "# Creando la figura y el eje para la gráfica.\n",
    "plt.figure(figsize=(10, 4))\n",
    "plt.plot(t_mono, new_data_mono)\n",
    "plt.title('Forma de Onda - Audio Mono: new_data_mono')\n",
    "plt.xlabel('Tiempo (s)')\n",
    "plt.ylabel('Amplitud')\n",
    "plt.show()"
   ]
  },
  {
   "cell_type": "code",
   "execution_count": null,
   "id": "b124e794-7a05-4c84-acf8-e26c6699fbf8",
   "metadata": {},
   "outputs": [],
   "source": [
    "plt.subplot(2, 1, 1)  # Divide el espacio de la gráfica en 2 filas y 1 columna y selecciona la primera área de gráfica.\n",
    "if audio_data.ndim > 1:  # Si 'audio_data' tiene más de una dimensión, lo que implica que puede ser un audio estéreo.\n",
    "    for channel in range(audio_data.shape[1]):  # Itera sobre cada canal del audio estéreo (generalmente 2 canales).\n",
    "        plt.plot(audio_data[:, channel], label=f'Canal {channel + 1}')  # Grafica la onda de cada canal por separado.\n",
    "    plt.title('Señal de Audio Estéreo')  # Pone un título a la gráfica.\n",
    "else:\n",
    "    plt.plot(audio_data)  # Si solo hay un canal (audio mono), grafica ese único canal.\n",
    "    plt.title('Señal de Audio Estéreo (Canal Único)')  # Pone un título a la gráfica, aunque es mono se titula como estéreo por error.\n",
    "plt.xlabel('Índice de Muestra')  # Etiqueta el eje x con 'Índice de Muestra'.\n",
    "plt.ylabel('Amplitud')  # Etiqueta el eje y con 'Amplitud'.\n",
    "plt.legend()  # Muestra una leyenda que identifica cada línea graficada."
   ]
  },
  {
   "cell_type": "markdown",
   "id": "d248a11e-7774-4fec-b463-bf4602527fff",
   "metadata": {},
   "source": [
    "### 2.8: Diferencias entre estério y mono"
   ]
  },
  {
   "cell_type": "markdown",
   "id": "843961f3-d00f-4dde-9289-47e66867cb60",
   "metadata": {},
   "source": [
    "* Mono: Utiliza un solo canal de audio. Esto significa que el mismo audio se reproduce a través de todos los altavoces o auriculares, sin importar cuántos haya.\n",
    "* Estéreo: Utiliza dos canales de audio distintos, comúnmente denominados izquierdo y derecho. Cada canal puede llevar sonidos diferentes, lo que permite crear una sensación de dirección y espacio."
   ]
  }
 ],
 "metadata": {
  "kernelspec": {
   "display_name": "Python 3 (ipykernel)",
   "language": "python",
   "name": "python3"
  },
  "language_info": {
   "codemirror_mode": {
    "name": "ipython",
    "version": 3
   },
   "file_extension": ".py",
   "mimetype": "text/x-python",
   "name": "python",
   "nbconvert_exporter": "python",
   "pygments_lexer": "ipython3",
   "version": "3.12.2"
  }
 },
 "nbformat": 4,
 "nbformat_minor": 5
}
