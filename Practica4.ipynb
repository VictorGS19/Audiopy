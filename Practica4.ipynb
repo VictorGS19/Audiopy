{
 "cells": [
  {
   "cell_type": "markdown",
   "id": "bd5281fc-4f2f-4a07-b435-4cdab36105ad",
   "metadata": {},
   "source": [
    "# Autor: Víctor Gullón Sánchez\n",
    "# Fecha: 05/03/2024\n",
    "# Tarea: 4 \n",
    "# Asignatura: Sistemas Multimedia"
   ]
  },
  {
   "cell_type": "markdown",
   "id": "1af4eea4-5410-427f-b04b-6106776681e5",
   "metadata": {},
   "source": [
    "## Parte 1"
   ]
  },
  {
   "cell_type": "markdown",
   "id": "7993b718-492a-488f-a10e-66e228b23344",
   "metadata": {},
   "source": [
    "### 1.2: Graficas de audio\n",
    "Para empezar tendremos que importar las librerias necesarias:"
   ]
  },
  {
   "cell_type": "code",
   "execution_count": null,
   "id": "590ac4e0-c410-4584-88d8-4bc08f64bd8f",
   "metadata": {},
   "outputs": [],
   "source": [
    "pip install scipy"
   ]
  },
  {
   "cell_type": "code",
   "execution_count": null,
   "id": "52f5bd6c-ec27-4761-be7a-111f1b080d82",
   "metadata": {},
   "outputs": [],
   "source": [
    "# Importacion.\n",
    "# import librosa\n",
    "from scipy.io import wavfile\n",
    "import IPython\n",
    "import os\n",
    "import numpy as np"
   ]
  },
  {
   "cell_type": "code",
   "execution_count": null,
   "id": "c9774e05-ecdb-4729-9033-c7de79c5bc84",
   "metadata": {},
   "outputs": [],
   "source": [
    "pip install matplotlib"
   ]
  },
  {
   "cell_type": "code",
   "execution_count": null,
   "id": "1c8653ab-a536-4fbf-bfa1-88b66a1a0279",
   "metadata": {},
   "outputs": [],
   "source": [
    "import matplotlib.pyplot as plt\n",
    "import numpy as np"
   ]
  },
  {
   "cell_type": "markdown",
   "id": "9753867a-f5a2-4d9d-a6a7-f6268484ff0e",
   "metadata": {},
   "source": [
    "Una vez tenemos las librerias importadas empezamos:\n",
    "#### Audio estéreo:"
   ]
  },
  {
   "cell_type": "code",
   "execution_count": null,
   "id": "243af008-24f2-4a05-88e1-195a7d6fbe56",
   "metadata": {},
   "outputs": [],
   "source": [
    "# Cargamos el archivo de audio.\n",
    "filename = os.path.join(\"audio\", 'breaking_bad.wav')\n",
    "sample_rate, audio_data = wavfile.read(filename)"
   ]
  },
  {
   "cell_type": "code",
   "execution_count": null,
   "id": "1f3eb1c3-14cb-4c42-83e1-cd63b52ea907",
   "metadata": {},
   "outputs": [],
   "source": [
    "# Se muestra la información del audio estéreo, donde se ve el canal1, canal2, aparte la resolución y el tamaño\n",
    "print('Datos de audio (estereo):')\n",
    "print(f'- Tamaño:     {audio_data.shape}')\n",
    "print(f'- 1º canal:   {audio_data[:5, 0]}...')\n",
    "print(f'- 2º canal:   {audio_data[:5, 1]}...')\n",
    "print(f'- Resolucion: {type(audio_data[0,0])}\\n')\n",
    "\n",
    "print(f'Frecuencia de muestreo (sample rate): {sample_rate/1000} kHz\\n')"
   ]
  },
  {
   "cell_type": "markdown",
   "id": "81f2c113-0134-49e5-ac84-71d2fccddd8c",
   "metadata": {},
   "source": [
    "* Grafica de dominio:"
   ]
  },
  {
   "cell_type": "code",
   "execution_count": null,
   "id": "94b19598-f3b5-4b8e-bace-7ed02d01327c",
   "metadata": {},
   "outputs": [],
   "source": [
    "plt.subplot(2, 1, 1)  # Divide el espacio de la gráfica en 2 filas y 1 columna y selecciona la primera área de gráfica.\n",
    "if audio_data.ndim > 1:  # Si 'audio_data' tiene más de una dimensión, lo que implica que puede ser un audio estéreo.\n",
    "    for channel in range(audio_data.shape[1]):  # Itera sobre cada canal del audio estéreo (generalmente 2 canales).\n",
    "        plt.plot(audio_data[:50, channel], label=f'Canal {channel + 1}')  # Grafica la onda de cada canal por separado.\n",
    "    plt.title('Señal de Audio Estéreo')  # Pone un título a la gráfica.\n",
    "else:\n",
    "    plt.plot(audio_data)  # Si solo hay un canal (audio mono), grafica ese único canal.\n",
    "    plt.title('Señal de Audio Estéreo (Canal Único)')  # Pone un título a la gráfica, aunque es mono se titula como estéreo por error.\n",
    "plt.xlabel('Índice de Muestra')  # Etiqueta el eje x con 'Índice de Muestra'.\n",
    "plt.ylabel('Amplitud')  # Etiqueta el eje y con 'Amplitud'.\n",
    "plt.legend()  # Muestra una leyenda que identifica cada línea graficada."
   ]
  },
  {
   "cell_type": "markdown",
   "id": "d1b845ca-55cd-415d-bf9c-5e6d98e9176a",
   "metadata": {},
   "source": [
    "#### Audio mono:"
   ]
  },
  {
   "cell_type": "code",
   "execution_count": null,
   "id": "e598ead7-29c1-49d3-957e-baaa05aca471",
   "metadata": {},
   "outputs": [],
   "source": [
    "# Se convierte el audio estéreo en mono, se entiende como una simplicación ya que de dos canales pasaremos a uno solo\n",
    "new_data_mono = audio_data.mean(axis=1) # Se hace la media entre los valores de un canal y otro, y surge un solo canal\n",
    "print('Nuevos datos de audio (mono):')\n",
    "print(f'- Nuevo tamaño: {new_data_mono.shape}')\n",
    "print(f'- Canal unico:  {new_data_mono[:5]}...')\n",
    "\n",
    "# Mantenemos la misma resolucion que antes ya que esto no tiene por qué cambiar\n",
    "new_data_mono = new_data_mono.astype(np.int16) # Se fuerza a que sea en ese tipo\n",
    "print(f'- Resolucion:   {type(new_data_mono[0])}\\n')\n",
    "\n",
    "print(f'Frecuencia de muestreo (sample rate): {sample_rate/1000} kHz\\n')"
   ]
  },
  {
   "cell_type": "markdown",
   "id": "367e51da-c478-46bd-9571-eeef5f97f597",
   "metadata": {},
   "source": [
    "* Grafica de dominio:"
   ]
  },
  {
   "cell_type": "code",
   "execution_count": null,
   "id": "392a4c10-8300-4cb5-bb1e-78cebabac59b",
   "metadata": {},
   "outputs": [],
   "source": [
    "sr_mono = 44100  # Tasa de muestreo de tu audio mono, ajusta según sea necesario.\n",
    "\n",
    "# Calculando el tiempo en segundos para el eje x.\n",
    "t_mono = np.arange(len(new_data_mono)) / sr_mono\n",
    "\n",
    "# Creando la figura y el eje para la gráfica.\n",
    "plt.figure(figsize=(10, 4))\n",
    "plt.plot(t_mono, new_data_mono)\n",
    "plt.title('Forma de Onda - Audio Mono: new_data_mono')\n",
    "plt.xlabel('Tiempo (s)')\n",
    "plt.ylabel('Amplitud')\n",
    "plt.show()"
   ]
  },
  {
   "cell_type": "markdown",
   "id": "ea1ac475-cd99-4fbd-8494-bff51df5d615",
   "metadata": {},
   "source": [
    "### 1.3: Definición de frecuencia de muestreo, aliasing, profundidad de\n",
    "bits, ancho de banda y tasa de bits"
   ]
  },
  {
   "cell_type": "markdown",
   "id": "ca3f9a52-e0ce-42c6-89bf-ec70b8926f77",
   "metadata": {},
   "source": [
    "* Frecuencia de muestreo: Número de veces por segundo que se toma una muestra de una señal analógica para convertirla en digital, determinando cuán bien se captura esta señal en el dominio digital.\n",
    "\n",
    "* Aliasing: Distorsión que ocurre cuando la señal digitalizada representa incorrectamente las altas frecuencias de una señal analógica debido a una frecuencia de muestreo insuficiente.\n",
    "\n",
    "* Profundidad de bits: Número de bits usados para representar cada muestra de una señal digital, afectando la precisión y el rango dinámico de la señal.\n",
    "\n",
    "* Ancho de banda: Rango de frecuencias que puede transmitir o procesar un sistema, indicando la cantidad de información que puede manejar.\n",
    "\n",
    "* Tasa de bits: Cantidad de datos transmitidos por segundo en una señal digital, influyendo en la calidad y el tamaño del archivo digital."
   ]
  },
  {
   "cell_type": "markdown",
   "id": "25806605-3c29-4151-b609-a3587738b78f",
   "metadata": {},
   "source": [
    "### 1.4: Audio mono, con la aplicación de la Transformada de Fourier para cambiar el dominio de la frecuencia. Se mostrará la gráfica y su explicación:"
   ]
  },
  {
   "cell_type": "code",
   "execution_count": null,
   "id": "7d2f67b8-1beb-4ed0-91dd-15e26eebf11d",
   "metadata": {},
   "outputs": [],
   "source": [
    "n = len(new_data_mono)\n",
    "Fs = sample_rate\n",
    "\n",
    "# Calculando la Transformada Rapida de Fourier (FFT) en audio mono.\n",
    "ch_Fourier = np.fft.fft(new_data_mono)  # ch1\n",
    "\n",
    "# Solo miramos frecuencia por debajo de Fs/2\n",
    "# (Nyquist-Shannon) --> Spectrum.\n",
    "abs_ch_Fourier = np.absolute(ch_Fourier[:n//2])\n",
    "\n",
    "# Graficamos.\n",
    "plt.plot(np.linspace(0, Fs/2, n//2), abs_ch_Fourier)\n",
    "plt.ylabel('Amplitud', labelpad=10)\n",
    "plt.xlabel('$f$ (Hz)', labelpad=10)\n",
    "plt.show()"
   ]
  },
  {
   "cell_type": "markdown",
   "id": "251eb2de-83f9-44f8-89ad-92a57fa720df",
   "metadata": {},
   "source": [
    "La Transformada de Fourier convierte un audio, que normalmente ves como una onda que sube y baja con el tiempo, en un montón de barras que muestran qué notas o tonos contiene ese audio y qué tan fuertes son."
   ]
  },
  {
   "cell_type": "markdown",
   "id": "9de98492-89a5-4d8e-bf59-3b41173d77e2",
   "metadata": {},
   "source": [
    "### 1.5: Cálculo de la energía del espectrograma y la frecuencia de corte con un epsilon concreto"
   ]
  },
  {
   "cell_type": "code",
   "execution_count": null,
   "id": "178c14ad-2ffb-4c2a-930c-c37449f4743b",
   "metadata": {},
   "outputs": [],
   "source": [
    "# Definición del epsilon\n",
    "eps = [ .155, .0, .1600]\n",
    "eps = eps[2]\n",
    "print(f'Epsilon: {eps}')\n",
    "\n",
    "# Calculamos el valor de corte para esta energia.\n",
    "thr_spec_energy = (1 - eps) * np.sum(abs_ch_Fourier)\n",
    "print(f'Valor de corte para la energia del espectro: {thr_spec_energy}')\n",
    "\n",
    "# Integral de la frecuencia --> energia del espectro.\n",
    "spec_energy = np.cumsum(abs_ch_Fourier)\n",
    "\n",
    "# Mascara (array booleano) que compara el\n",
    "# valor de corte con la energia del espectro.\n",
    "frequencies_to_remove = thr_spec_energy < spec_energy  \n",
    "print(f'Mascara: {frequencies_to_remove}')\n",
    "\n",
    "# La frecuencia f0 por la que cortamos el espectro.\n",
    "f0 = (len(frequencies_to_remove) - np.sum(frequencies_to_remove)) * (Fs/2) / (n//2)\n",
    "print(f'Frecuencia de corte f0 (Hz): {int(f0)}')\n",
    "\n",
    "# Se muestra la gráfica\n",
    "plt.axvline(f0, color='r')\n",
    "plt.plot(np.linspace(0, Fs/2, n//2), abs_ch_Fourier)\n",
    "plt.ylabel('Amplitud')\n",
    "plt.xlabel('$f$ (Hz)')\n",
    "plt.show()"
   ]
  },
  {
   "cell_type": "markdown",
   "id": "fc995d7f-2da9-4795-b7df-3c66408445ef",
   "metadata": {},
   "source": [
    "La definición del epsilon es el corte que vamos a realizar del audio para descartar, en este caso yo he escogido el 1600 para quedarme con la parte del audio donde las frecuencias son más altas, y descarto (de la línea roja hacia la derecha) las frecuencias más bajas o de menos energía."
   ]
  },
  {
   "cell_type": "markdown",
   "id": "f573b53c-6339-483c-bf7c-940161b4af4d",
   "metadata": {},
   "source": [
    "### 1.6: En este punto vamos a comprimir la onda utilizando downsampling y obteniendo el factor a partir de la frecuencia de corte que se calculó previamente:"
   ]
  },
  {
   "cell_type": "code",
   "execution_count": null,
   "id": "7bafaa39-6855-4720-8c59-b58b1936199c",
   "metadata": {},
   "outputs": [],
   "source": [
    "# Definimos los nombres de los audios comprimidos.\n",
    "wav_compressed_file = \"AudioComprimido.wav\"\n",
    "\n",
    "# Calculamos el factor D de downsampling.\n",
    "D = int(Fs / f0)\n",
    "print(f'Factor de downsampling: {D}')\n",
    "\n",
    "# Obtenemos los nuevos datos (slicing with stride).\n",
    "new_data = new_data_mono[::D]\n",
    "\n",
    "# Escribimos los datos a un archivo de tipo wav.\n",
    "wavfile.write(\n",
    "    filename=os.path.join('audio', wav_compressed_file),\n",
    "    rate=int(Fs/D),\n",
    "    data=new_data\n",
    ")\n",
    "\n",
    "# Cargamos el nuevo archivo.\n",
    "sample_rate_comprimido, new_audio_data = wavfile.read(filename=os.path.join('audio', wav_compressed_file))"
   ]
  },
  {
   "cell_type": "markdown",
   "id": "ba5012d7-0c66-422c-ada3-c68514dd5275",
   "metadata": {},
   "source": [
    "* slicing with stride: Esta función delimita que para la compresión del audio va a ir dando como saltos de elementos del array según el factor de downsampling, en este caso 7, que sale del cálculo con la frecuencia del audio original."
   ]
  },
  {
   "cell_type": "markdown",
   "id": "075262d7-dc7a-4e12-8287-ca7fa83c3352",
   "metadata": {},
   "source": [
    "### 1.7: Espectograma de las ondas: original y comprimida. Diferencias:"
   ]
  },
  {
   "cell_type": "code",
   "execution_count": null,
   "id": "df8a4479-bec6-493c-9236-a61f864c7ec2",
   "metadata": {},
   "outputs": [],
   "source": [
    "fig, ax = plt.subplots(2, 1, figsize=(12, 8), sharex=True)\n",
    "\n",
    "Pxx, freqs, bins, im = ax[0].specgram(new_data_mono, NFFT=1024, Fs=sample_rate, noverlap=512)\n",
    "ax[0].set_title('Espectograma del audio original')\n",
    "ax[0].set_ylabel('Frecuencia (Hz)')\n",
    "ax[0].grid(True)\n",
    "\n",
    "Pxx, freqs, bins, im = ax[1].specgram(new_audio_data, NFFT=1024, Fs=sample_rate_comprimido, noverlap=512)\n",
    "ax[1].set_title('Espectrograma del audio reducido/comprimido')\n",
    "ax[1].set_xlabel('Tiempo (s)')\n",
    "ax[1].set_ylabel('Frecuencia (Hz)')\n",
    "ax[1].grid(True)\n",
    "\n",
    "plt.tight_layout()\n",
    "plt.show()"
   ]
  },
  {
   "cell_type": "markdown",
   "id": "301dacd9-58d7-4942-a5e8-bab629a09f23",
   "metadata": {},
   "source": [
    "El espectrograma superior muestra un audio con un rango completo de frecuencias y detalles finos, mientras que el inferior tiene un rango de frecuencia limitado y menos detalles, indicando que se han eliminado las frecuencias altas y posiblemente se ha comprimido la señal, lo que resulta en una simplificación del contenido del audio."
   ]
  },
  {
   "cell_type": "markdown",
   "id": "dff62290-1136-4ed8-9967-7b00d6674d81",
   "metadata": {},
   "source": [
    "### 1.8: Tamaño de los archivos:"
   ]
  },
  {
   "cell_type": "markdown",
   "id": "90e9a61e-8e61-4696-8b79-816b9557a76a",
   "metadata": {},
   "source": [
    "* Tamaño del archivo comprimido:"
   ]
  },
  {
   "cell_type": "code",
   "execution_count": null,
   "id": "300367a7-4cb4-4913-a0db-873bf8cbaa72",
   "metadata": {},
   "outputs": [],
   "source": [
    "!ls -sh audio/AudioComprimido.wav"
   ]
  },
  {
   "cell_type": "markdown",
   "id": "a14fbdf3-fbbc-4998-ac54-d575575fe342",
   "metadata": {},
   "source": [
    "* Tamaño del archivo original:"
   ]
  },
  {
   "cell_type": "code",
   "execution_count": null,
   "id": "fd93508c-4c2e-4f8a-995e-20b35d577fed",
   "metadata": {},
   "outputs": [],
   "source": [
    "!ls -sh audio/breaking_bad.wav"
   ]
  },
  {
   "cell_type": "markdown",
   "id": "756ea5f5-2095-483c-b6b7-c6fa0fc3abc2",
   "metadata": {},
   "source": [
    "### 1.9: Widgets para la reproducción del audio:"
   ]
  },
  {
   "cell_type": "markdown",
   "id": "ce1b0cfc-59a3-4b60-8eac-0894677dbea1",
   "metadata": {},
   "source": [
    "* Audio original:"
   ]
  },
  {
   "cell_type": "code",
   "execution_count": null,
   "id": "929b35b5-b69f-45c4-9d87-8d185aa3edef",
   "metadata": {},
   "outputs": [],
   "source": [
    "IPython.display.Audio(new_data_mono, rate=sample_rate)"
   ]
  },
  {
   "cell_type": "markdown",
   "id": "b47dae34-2340-42a5-8eb7-b51a964f4b01",
   "metadata": {},
   "source": [
    "* Audio comprimido:"
   ]
  },
  {
   "cell_type": "code",
   "execution_count": null,
   "id": "e2131977-2178-41e5-bd30-67d1fc4a49b2",
   "metadata": {},
   "outputs": [],
   "source": [
    "IPython.display.Audio(new_audio_data, rate=sample_rate_comprimido)"
   ]
  }
 ],
 "metadata": {
  "kernelspec": {
   "display_name": "audiopyv",
   "language": "python",
   "name": "audiopyv"
  },
  "language_info": {
   "codemirror_mode": {
    "name": "ipython",
    "version": 3
   },
   "file_extension": ".py",
   "mimetype": "text/x-python",
   "name": "python",
   "nbconvert_exporter": "python",
   "pygments_lexer": "ipython3",
   "version": "3.12.2"
  }
 },
 "nbformat": 4,
 "nbformat_minor": 5
}
